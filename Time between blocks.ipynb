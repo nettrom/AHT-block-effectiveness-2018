{
 "cells": [
  {
   "cell_type": "markdown",
   "metadata": {},
   "source": [
    "# Time between subsequent blocks\n",
    "\n",
    "What is the distribution of time between subsequent blocks for a user who receives a sitewide, non-indefinite block?"
   ]
  },
  {
   "cell_type": "code",
   "execution_count": 3,
   "metadata": {},
   "outputs": [
    {
     "name": "stderr",
     "output_type": "stream",
     "text": [
      "You can find the source for `wmfdata` at https://github.com/neilpquinn/wmfdata\n"
     ]
    }
   ],
   "source": [
    "from wmfdata import hive\n",
    "\n",
    "%load_ext rpy2.ipython"
   ]
  },
  {
   "cell_type": "code",
   "execution_count": 4,
   "metadata": {},
   "outputs": [],
   "source": [
    "%%R\n",
    "library(ggplot2);"
   ]
  },
  {
   "cell_type": "code",
   "execution_count": 6,
   "metadata": {},
   "outputs": [],
   "source": [
    "## This can be answered with a Hive query of the mediawiki_user_history table to calculate\n",
    "## the time between block events? What we need to do is look for unblock events with an end\n",
    "## timestamp that is not NULL. Then calculate the time between the start and end timestamps.\n",
    "\n",
    "time_between_blocks = hive.run('''\n",
    "SELECT user_id, start_timestamp,\n",
    "unix_timestamp(end_timestamp, \"yyyy-MM-dd HH:mm:ss.0\") - \n",
    "    unix_timestamp(start_timestamp, \"yyyy-MM-dd HH:mm:ss.0\") AS time_to_next_block\n",
    "FROM wmf.mediawiki_user_history\n",
    "WHERE snapshot= \"2018-11\"\n",
    "AND wiki_db = \"enwiki\"\n",
    "AND caused_by_event_type = \"alterblocks\"\n",
    "AND inferred_from = \"unblock\"\n",
    "AND end_timestamp IS NOT NULL\n",
    "''')"
   ]
  },
  {
   "cell_type": "code",
   "execution_count": 7,
   "metadata": {},
   "outputs": [
    {
     "data": {
      "text/html": [
       "<div>\n",
       "<style scoped>\n",
       "    .dataframe tbody tr th:only-of-type {\n",
       "        vertical-align: middle;\n",
       "    }\n",
       "\n",
       "    .dataframe tbody tr th {\n",
       "        vertical-align: top;\n",
       "    }\n",
       "\n",
       "    .dataframe thead th {\n",
       "        text-align: right;\n",
       "    }\n",
       "</style>\n",
       "<table border=\"1\" class=\"dataframe\">\n",
       "  <thead>\n",
       "    <tr style=\"text-align: right;\">\n",
       "      <th></th>\n",
       "      <th>user_id</th>\n",
       "      <th>time_to_next_block</th>\n",
       "      <th>time_in_days</th>\n",
       "    </tr>\n",
       "  </thead>\n",
       "  <tbody>\n",
       "    <tr>\n",
       "      <th>count</th>\n",
       "      <td>3.572600e+04</td>\n",
       "      <td>3.572600e+04</td>\n",
       "      <td>35726.000000</td>\n",
       "    </tr>\n",
       "    <tr>\n",
       "      <th>mean</th>\n",
       "      <td>1.039436e+07</td>\n",
       "      <td>2.039796e+07</td>\n",
       "      <td>236.087492</td>\n",
       "    </tr>\n",
       "    <tr>\n",
       "      <th>std</th>\n",
       "      <td>9.794242e+06</td>\n",
       "      <td>5.725646e+07</td>\n",
       "      <td>662.690529</td>\n",
       "    </tr>\n",
       "    <tr>\n",
       "      <th>min</th>\n",
       "      <td>2.400000e+01</td>\n",
       "      <td>0.000000e+00</td>\n",
       "      <td>0.000000</td>\n",
       "    </tr>\n",
       "    <tr>\n",
       "      <th>25%</th>\n",
       "      <td>1.923743e+06</td>\n",
       "      <td>2.745302e+05</td>\n",
       "      <td>3.177433</td>\n",
       "    </tr>\n",
       "    <tr>\n",
       "      <th>50%</th>\n",
       "      <td>6.999039e+06</td>\n",
       "      <td>1.752458e+06</td>\n",
       "      <td>20.283084</td>\n",
       "    </tr>\n",
       "    <tr>\n",
       "      <th>75%</th>\n",
       "      <td>1.713791e+07</td>\n",
       "      <td>1.150598e+07</td>\n",
       "      <td>133.171108</td>\n",
       "    </tr>\n",
       "    <tr>\n",
       "      <th>max</th>\n",
       "      <td>3.523701e+07</td>\n",
       "      <td>1.976391e+09</td>\n",
       "      <td>22874.890579</td>\n",
       "    </tr>\n",
       "  </tbody>\n",
       "</table>\n",
       "</div>"
      ],
      "text/plain": [
       "            user_id  time_to_next_block  time_in_days\n",
       "count  3.572600e+04        3.572600e+04  35726.000000\n",
       "mean   1.039436e+07        2.039796e+07    236.087492\n",
       "std    9.794242e+06        5.725646e+07    662.690529\n",
       "min    2.400000e+01        0.000000e+00      0.000000\n",
       "25%    1.923743e+06        2.745302e+05      3.177433\n",
       "50%    6.999039e+06        1.752458e+06     20.283084\n",
       "75%    1.713791e+07        1.150598e+07    133.171108\n",
       "max    3.523701e+07        1.976391e+09  22874.890579"
      ]
     },
     "execution_count": 7,
     "metadata": {},
     "output_type": "execute_result"
    }
   ],
   "source": [
    "time_between_blocks['time_in_days'] = time_between_blocks['time_to_next_block'] / (60*60*24)\n",
    "\n",
    "time_between_blocks.describe()"
   ]
  },
  {
   "cell_type": "code",
   "execution_count": 8,
   "metadata": {},
   "outputs": [
    {
     "data": {
      "text/html": [
       "<div>\n",
       "<style scoped>\n",
       "    .dataframe tbody tr th:only-of-type {\n",
       "        vertical-align: middle;\n",
       "    }\n",
       "\n",
       "    .dataframe tbody tr th {\n",
       "        vertical-align: top;\n",
       "    }\n",
       "\n",
       "    .dataframe thead th {\n",
       "        text-align: right;\n",
       "    }\n",
       "</style>\n",
       "<table border=\"1\" class=\"dataframe\">\n",
       "  <thead>\n",
       "    <tr style=\"text-align: right;\">\n",
       "      <th></th>\n",
       "      <th>user_id</th>\n",
       "      <th>time_to_next_block</th>\n",
       "      <th>time_in_days</th>\n",
       "    </tr>\n",
       "  </thead>\n",
       "  <tbody>\n",
       "    <tr>\n",
       "      <th>count</th>\n",
       "      <td>3.072000e+04</td>\n",
       "      <td>3.072000e+04</td>\n",
       "      <td>30720.000000</td>\n",
       "    </tr>\n",
       "    <tr>\n",
       "      <th>mean</th>\n",
       "      <td>1.099242e+07</td>\n",
       "      <td>4.219438e+06</td>\n",
       "      <td>48.836088</td>\n",
       "    </tr>\n",
       "    <tr>\n",
       "      <th>std</th>\n",
       "      <td>1.005017e+07</td>\n",
       "      <td>6.673955e+06</td>\n",
       "      <td>77.244854</td>\n",
       "    </tr>\n",
       "    <tr>\n",
       "      <th>min</th>\n",
       "      <td>9.800000e+01</td>\n",
       "      <td>0.000000e+00</td>\n",
       "      <td>0.000000</td>\n",
       "    </tr>\n",
       "    <tr>\n",
       "      <th>25%</th>\n",
       "      <td>2.147636e+06</td>\n",
       "      <td>2.042412e+05</td>\n",
       "      <td>2.363903</td>\n",
       "    </tr>\n",
       "    <tr>\n",
       "      <th>50%</th>\n",
       "      <td>7.573506e+06</td>\n",
       "      <td>1.047195e+06</td>\n",
       "      <td>12.120313</td>\n",
       "    </tr>\n",
       "    <tr>\n",
       "      <th>75%</th>\n",
       "      <td>1.829967e+07</td>\n",
       "      <td>4.961088e+06</td>\n",
       "      <td>57.420003</td>\n",
       "    </tr>\n",
       "    <tr>\n",
       "      <th>max</th>\n",
       "      <td>3.523701e+07</td>\n",
       "      <td>3.153243e+07</td>\n",
       "      <td>364.958727</td>\n",
       "    </tr>\n",
       "  </tbody>\n",
       "</table>\n",
       "</div>"
      ],
      "text/plain": [
       "            user_id  time_to_next_block  time_in_days\n",
       "count  3.072000e+04        3.072000e+04  30720.000000\n",
       "mean   1.099242e+07        4.219438e+06     48.836088\n",
       "std    1.005017e+07        6.673955e+06     77.244854\n",
       "min    9.800000e+01        0.000000e+00      0.000000\n",
       "25%    2.147636e+06        2.042412e+05      2.363903\n",
       "50%    7.573506e+06        1.047195e+06     12.120313\n",
       "75%    1.829967e+07        4.961088e+06     57.420003\n",
       "max    3.523701e+07        3.153243e+07    364.958727"
      ]
     },
     "execution_count": 8,
     "metadata": {},
     "output_type": "execute_result"
    }
   ],
   "source": [
    "time_between_blocks.loc[time_between_blocks['time_in_days'] < 365].describe()"
   ]
  },
  {
   "cell_type": "code",
   "execution_count": 11,
   "metadata": {},
   "outputs": [
    {
     "data": {
      "image/png": "[encoded data removed]"
     },
     "metadata": {},
     "output_type": "display_data"
    }
   ],
   "source": [
    "%%R -i time_between_blocks\n",
    "\n",
    "enwiki_g = ggplot(time_between_blocks,\n",
    "       aes(x=as.numeric(time_to_next_block))) + \n",
    "  geom_histogram(binwidth = 0.2, colour=\"black\", fill='white') +\n",
    "  ggtitle(\"Distribution of time to second block - English Wikipedia\") +\n",
    "  scale_x_log10(\n",
    "    \"Time\",\n",
    "    breaks=c(60, 15*60, 60*60, 24*60*60, 7*24*60*60, 30*24*60*60, 365*24*60*60),\n",
    "    labels=c(\"minute\", \"15 min.\", \"hour\", \"day\", \"week\", \"month\", \"year\"));\n",
    "ggsave(\"graphs/enwiki_time_to_next_block.png\",\n",
    "       plot = enwiki_g, width = 20, height = 20, units = \"cm\", dpi = \"screen\");\n",
    "enwiki_g;"
   ]
  },
  {
   "cell_type": "code",
   "execution_count": 12,
   "metadata": {},
   "outputs": [],
   "source": [
    "## Also calculate this for itwiki, where partial blocks will be deployed.\n",
    "\n",
    "itwiki_time_between_blocks = hive.run('''\n",
    "SELECT user_id, start_timestamp,\n",
    "unix_timestamp(end_timestamp, \"yyyy-MM-dd HH:mm:ss.0\") - \n",
    "    unix_timestamp(start_timestamp, \"yyyy-MM-dd HH:mm:ss.0\") AS time_to_next_block\n",
    "FROM wmf.mediawiki_user_history\n",
    "WHERE snapshot= \"2018-11\"\n",
    "AND wiki_db = \"itwiki\"\n",
    "AND caused_by_event_type = \"alterblocks\"\n",
    "AND inferred_from = \"unblock\"\n",
    "AND end_timestamp IS NOT NULL\n",
    "''')"
   ]
  },
  {
   "cell_type": "code",
   "execution_count": 13,
   "metadata": {},
   "outputs": [
    {
     "data": {
      "text/html": [
       "<div>\n",
       "<style scoped>\n",
       "    .dataframe tbody tr th:only-of-type {\n",
       "        vertical-align: middle;\n",
       "    }\n",
       "\n",
       "    .dataframe tbody tr th {\n",
       "        vertical-align: top;\n",
       "    }\n",
       "\n",
       "    .dataframe thead th {\n",
       "        text-align: right;\n",
       "    }\n",
       "</style>\n",
       "<table border=\"1\" class=\"dataframe\">\n",
       "  <thead>\n",
       "    <tr style=\"text-align: right;\">\n",
       "      <th></th>\n",
       "      <th>user_id</th>\n",
       "      <th>time_to_next_block</th>\n",
       "      <th>time_in_days</th>\n",
       "    </tr>\n",
       "  </thead>\n",
       "  <tbody>\n",
       "    <tr>\n",
       "      <th>count</th>\n",
       "      <td>4.332000e+03</td>\n",
       "      <td>4.332000e+03</td>\n",
       "      <td>4332.000000</td>\n",
       "    </tr>\n",
       "    <tr>\n",
       "      <th>mean</th>\n",
       "      <td>6.793436e+05</td>\n",
       "      <td>3.622112e+06</td>\n",
       "      <td>41.922597</td>\n",
       "    </tr>\n",
       "    <tr>\n",
       "      <th>std</th>\n",
       "      <td>4.862537e+05</td>\n",
       "      <td>6.517112e+06</td>\n",
       "      <td>75.429534</td>\n",
       "    </tr>\n",
       "    <tr>\n",
       "      <th>min</th>\n",
       "      <td>9.000000e+00</td>\n",
       "      <td>1.000000e+00</td>\n",
       "      <td>0.000012</td>\n",
       "    </tr>\n",
       "    <tr>\n",
       "      <th>25%</th>\n",
       "      <td>2.559410e+05</td>\n",
       "      <td>7.832325e+04</td>\n",
       "      <td>0.906519</td>\n",
       "    </tr>\n",
       "    <tr>\n",
       "      <th>50%</th>\n",
       "      <td>5.867705e+05</td>\n",
       "      <td>5.387685e+05</td>\n",
       "      <td>6.235747</td>\n",
       "    </tr>\n",
       "    <tr>\n",
       "      <th>75%</th>\n",
       "      <td>1.043044e+06</td>\n",
       "      <td>3.708926e+06</td>\n",
       "      <td>42.927384</td>\n",
       "    </tr>\n",
       "    <tr>\n",
       "      <th>max</th>\n",
       "      <td>1.755208e+06</td>\n",
       "      <td>3.153478e+07</td>\n",
       "      <td>364.985903</td>\n",
       "    </tr>\n",
       "  </tbody>\n",
       "</table>\n",
       "</div>"
      ],
      "text/plain": [
       "            user_id  time_to_next_block  time_in_days\n",
       "count  4.332000e+03        4.332000e+03   4332.000000\n",
       "mean   6.793436e+05        3.622112e+06     41.922597\n",
       "std    4.862537e+05        6.517112e+06     75.429534\n",
       "min    9.000000e+00        1.000000e+00      0.000012\n",
       "25%    2.559410e+05        7.832325e+04      0.906519\n",
       "50%    5.867705e+05        5.387685e+05      6.235747\n",
       "75%    1.043044e+06        3.708926e+06     42.927384\n",
       "max    1.755208e+06        3.153478e+07    364.985903"
      ]
     },
     "execution_count": 13,
     "metadata": {},
     "output_type": "execute_result"
    }
   ],
   "source": [
    "itwiki_time_between_blocks['time_in_days'] = itwiki_time_between_blocks['time_to_next_block'] / (60*60*24)\n",
    "itwiki_time_between_blocks.loc[itwiki_time_between_blocks['time_in_days'] < 365].describe()"
   ]
  },
  {
   "cell_type": "code",
   "execution_count": 14,
   "metadata": {},
   "outputs": [
    {
     "data": {
      "text/html": [
       "<div>\n",
       "<style scoped>\n",
       "    .dataframe tbody tr th:only-of-type {\n",
       "        vertical-align: middle;\n",
       "    }\n",
       "\n",
       "    .dataframe tbody tr th {\n",
       "        vertical-align: top;\n",
       "    }\n",
       "\n",
       "    .dataframe thead th {\n",
       "        text-align: right;\n",
       "    }\n",
       "</style>\n",
       "<table border=\"1\" class=\"dataframe\">\n",
       "  <thead>\n",
       "    <tr style=\"text-align: right;\">\n",
       "      <th></th>\n",
       "      <th>user_id</th>\n",
       "      <th>time_to_next_block</th>\n",
       "      <th>time_in_days</th>\n",
       "    </tr>\n",
       "  </thead>\n",
       "  <tbody>\n",
       "    <tr>\n",
       "      <th>count</th>\n",
       "      <td>5.244000e+03</td>\n",
       "      <td>5.244000e+03</td>\n",
       "      <td>5244.000000</td>\n",
       "    </tr>\n",
       "    <tr>\n",
       "      <th>mean</th>\n",
       "      <td>6.270404e+05</td>\n",
       "      <td>2.338388e+07</td>\n",
       "      <td>270.646755</td>\n",
       "    </tr>\n",
       "    <tr>\n",
       "      <th>std</th>\n",
       "      <td>4.756760e+05</td>\n",
       "      <td>5.450357e+07</td>\n",
       "      <td>630.828307</td>\n",
       "    </tr>\n",
       "    <tr>\n",
       "      <th>min</th>\n",
       "      <td>9.000000e+00</td>\n",
       "      <td>1.000000e+00</td>\n",
       "      <td>0.000012</td>\n",
       "    </tr>\n",
       "    <tr>\n",
       "      <th>25%</th>\n",
       "      <td>2.173452e+05</td>\n",
       "      <td>1.241440e+05</td>\n",
       "      <td>1.436852</td>\n",
       "    </tr>\n",
       "    <tr>\n",
       "      <th>50%</th>\n",
       "      <td>5.271225e+05</td>\n",
       "      <td>1.158266e+06</td>\n",
       "      <td>13.405851</td>\n",
       "    </tr>\n",
       "    <tr>\n",
       "      <th>75%</th>\n",
       "      <td>9.704400e+05</td>\n",
       "      <td>1.397033e+07</td>\n",
       "      <td>161.693628</td>\n",
       "    </tr>\n",
       "    <tr>\n",
       "      <th>max</th>\n",
       "      <td>1.755208e+06</td>\n",
       "      <td>3.762364e+08</td>\n",
       "      <td>4354.587986</td>\n",
       "    </tr>\n",
       "  </tbody>\n",
       "</table>\n",
       "</div>"
      ],
      "text/plain": [
       "            user_id  time_to_next_block  time_in_days\n",
       "count  5.244000e+03        5.244000e+03   5244.000000\n",
       "mean   6.270404e+05        2.338388e+07    270.646755\n",
       "std    4.756760e+05        5.450357e+07    630.828307\n",
       "min    9.000000e+00        1.000000e+00      0.000012\n",
       "25%    2.173452e+05        1.241440e+05      1.436852\n",
       "50%    5.271225e+05        1.158266e+06     13.405851\n",
       "75%    9.704400e+05        1.397033e+07    161.693628\n",
       "max    1.755208e+06        3.762364e+08   4354.587986"
      ]
     },
     "execution_count": 14,
     "metadata": {},
     "output_type": "execute_result"
    }
   ],
   "source": [
    "itwiki_time_between_blocks.describe()"
   ]
  },
  {
   "cell_type": "code",
   "execution_count": 15,
   "metadata": {},
   "outputs": [
    {
     "name": "stderr",
     "output_type": "stream",
     "text": [
      "/home/nettrom/venv/lib/python3.5/site-packages/rpy2/robjects/pandas2ri.py:191: FutureWarning: from_items is deprecated. Please use DataFrame.from_dict(dict(items), ...) instead. DataFrame.from_dict(OrderedDict(items)) may be used to preserve the key order.\n",
      "  res = PandasDataFrame.from_items(items)\n"
     ]
    },
    {
     "data": {
      "image/png": "[encoded data removed]"
     },
     "metadata": {},
     "output_type": "display_data"
    }
   ],
   "source": [
    "%%R -i itwiki_time_between_blocks\n",
    "\n",
    "g = ggplot(itwiki_time_between_blocks,\n",
    "       aes(x=as.numeric(time_to_next_block))) + \n",
    "  geom_histogram(binwidth = 0.2, colour=\"black\", fill='white') +\n",
    "  ggtitle(\"Distribution of time to second block - Italian Wikipedia\") +\n",
    "  scale_x_log10(\n",
    "    \"Time\",\n",
    "    breaks=c(60, 15*60, 60*60, 24*60*60, 7*24*60*60, 30*24*60*60, 365*24*60*60),\n",
    "    labels=c(\"minute\", \"15 min.\", \"hour\", \"day\", \"week\", \"month\", \"year\"));\n",
    "ggsave(\"graphs/itwiki_time_to_next_block.png\",\n",
    "       plot = g, width = 20, height = 20, units = \"cm\", dpi = \"screen\");\n",
    "g;"
   ]
  }
 ],
 "metadata": {
  "kernelspec": {
   "display_name": "Python 3",
   "language": "python",
   "name": "python3"
  },
  "language_info": {
   "codemirror_mode": {
    "name": "ipython",
    "version": 3
   },
   "file_extension": ".py",
   "mimetype": "text/x-python",
   "name": "python",
   "nbconvert_exporter": "python",
   "pygments_lexer": "ipython3",
   "version": "3.5.3"
  }
 },
 "nbformat": 4,
 "nbformat_minor": 2
}
